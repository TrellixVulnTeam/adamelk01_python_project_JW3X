{
 "cells": [
  {
   "cell_type": "code",
   "execution_count": 1,
   "id": "hindu-donor",
   "metadata": {},
   "outputs": [],
   "source": [
    "import matplotlib.pyplot as plt\n",
    "import csv\n",
    "import datetime\n",
    "import calendar"
   ]
  },
  {
   "cell_type": "markdown",
   "id": "earlier-tobacco",
   "metadata": {},
   "source": [
    "## Importing and Setting up our Data\n",
    "\n",
    "We start by bringing in the csv data into our Python program.  We then parse the data using the CSV package.  Lastly we close the csv file after we have read the information\n"
   ]
  },
  {
   "cell_type": "code",
   "execution_count": 2,
   "id": "statistical-monday",
   "metadata": {},
   "outputs": [
    {
     "ename": "FileNotFoundError",
     "evalue": "[Errno 2] No such file or directory: 'covid_19_data 3.csv'",
     "output_type": "error",
     "traceback": [
      "\u001b[0;31m---------------------------------------------------------------------------\u001b[0m",
      "\u001b[0;31mFileNotFoundError\u001b[0m                         Traceback (most recent call last)",
      "\u001b[0;32m<ipython-input-2-1fbd08296b85>\u001b[0m in \u001b[0;36m<module>\u001b[0;34m\u001b[0m\n\u001b[0;32m----> 1\u001b[0;31m \u001b[0;32mwith\u001b[0m \u001b[0mopen\u001b[0m\u001b[0;34m(\u001b[0m\u001b[0;34m'covid_19_data 3.csv'\u001b[0m\u001b[0;34m,\u001b[0m \u001b[0;34m'r'\u001b[0m\u001b[0;34m)\u001b[0m \u001b[0;32mas\u001b[0m \u001b[0mdatafile\u001b[0m\u001b[0;34m:\u001b[0m\u001b[0;34m\u001b[0m\u001b[0;34m\u001b[0m\u001b[0m\n\u001b[0m\u001b[1;32m      2\u001b[0m     \u001b[0mcovid_data\u001b[0m \u001b[0;34m=\u001b[0m \u001b[0mcsv\u001b[0m\u001b[0;34m.\u001b[0m\u001b[0mDictReader\u001b[0m\u001b[0;34m(\u001b[0m\u001b[0mdatafile\u001b[0m\u001b[0;34m)\u001b[0m\u001b[0;34m\u001b[0m\u001b[0;34m\u001b[0m\u001b[0m\n\u001b[1;32m      3\u001b[0m     \u001b[0mdata_list\u001b[0m \u001b[0;34m=\u001b[0m \u001b[0;34m[\u001b[0m\u001b[0;34m]\u001b[0m\u001b[0;34m\u001b[0m\u001b[0;34m\u001b[0m\u001b[0m\n\u001b[1;32m      4\u001b[0m \u001b[0;34m\u001b[0m\u001b[0m\n\u001b[1;32m      5\u001b[0m     \u001b[0;32mfor\u001b[0m \u001b[0mrow\u001b[0m \u001b[0;32min\u001b[0m \u001b[0mcovid_data\u001b[0m\u001b[0;34m:\u001b[0m\u001b[0;34m\u001b[0m\u001b[0;34m\u001b[0m\u001b[0m\n",
      "\u001b[0;31mFileNotFoundError\u001b[0m: [Errno 2] No such file or directory: 'covid_19_data 3.csv'"
     ]
    }
   ],
   "source": [
    "with open('covid_19_data 3.csv', 'r') as datafile:\n",
    "    covid_data = csv.DictReader(datafile)\n",
    "    data_list = []\n",
    "    \n",
    "    for row in covid_data:\n",
    "        data_list.append(row)"
   ]
  },
  {
   "cell_type": "markdown",
   "id": "italic-pleasure",
   "metadata": {},
   "source": [
    "## Format the data before we generate the visualization\n",
    "\n",
    "Choose only the US entries, categorize by state, collect daily reports into a monthly list"
   ]
  },
  {
   "cell_type": "code",
   "execution_count": 3,
   "id": "administrative-armstrong",
   "metadata": {},
   "outputs": [
    {
     "ename": "NameError",
     "evalue": "name 'data_list' is not defined",
     "output_type": "error",
     "traceback": [
      "\u001b[0;31m---------------------------------------------------------------------------\u001b[0m",
      "\u001b[0;31mNameError\u001b[0m                                 Traceback (most recent call last)",
      "\u001b[0;32m<ipython-input-3-c613c023222a>\u001b[0m in \u001b[0;36m<module>\u001b[0;34m\u001b[0m\n\u001b[1;32m      2\u001b[0m \u001b[0mstate_names\u001b[0m \u001b[0;34m=\u001b[0m \u001b[0;34m[\u001b[0m\u001b[0;34m\"Alaska\"\u001b[0m\u001b[0;34m,\u001b[0m \u001b[0;34m\"Alabama\"\u001b[0m\u001b[0;34m,\u001b[0m \u001b[0;34m\"Arkansas\"\u001b[0m\u001b[0;34m,\u001b[0m \u001b[0;34m\"American Samoa\"\u001b[0m\u001b[0;34m,\u001b[0m \u001b[0;34m\"Arizona\"\u001b[0m\u001b[0;34m,\u001b[0m \u001b[0;34m\"California\"\u001b[0m\u001b[0;34m,\u001b[0m \u001b[0;34m\"Colorado\"\u001b[0m\u001b[0;34m,\u001b[0m \u001b[0;34m\"Connecticut\"\u001b[0m\u001b[0;34m,\u001b[0m \u001b[0;34m\"District of Columbia\"\u001b[0m\u001b[0;34m,\u001b[0m \u001b[0;34m\"Delaware\"\u001b[0m\u001b[0;34m,\u001b[0m \u001b[0;34m\"Florida\"\u001b[0m\u001b[0;34m,\u001b[0m \u001b[0;34m\"Georgia\"\u001b[0m\u001b[0;34m,\u001b[0m \u001b[0;34m\"Guam\"\u001b[0m\u001b[0;34m,\u001b[0m \u001b[0;34m\"Hawaii\"\u001b[0m\u001b[0;34m,\u001b[0m \u001b[0;34m\"Iowa\"\u001b[0m\u001b[0;34m,\u001b[0m \u001b[0;34m\"Idaho\"\u001b[0m\u001b[0;34m,\u001b[0m \u001b[0;34m\"Illinois\"\u001b[0m\u001b[0;34m,\u001b[0m \u001b[0;34m\"Indiana\"\u001b[0m\u001b[0;34m,\u001b[0m \u001b[0;34m\"Kansas\"\u001b[0m\u001b[0;34m,\u001b[0m \u001b[0;34m\"Kentucky\"\u001b[0m\u001b[0;34m,\u001b[0m \u001b[0;34m\"Louisiana\"\u001b[0m\u001b[0;34m,\u001b[0m \u001b[0;34m\"Massachusetts\"\u001b[0m\u001b[0;34m,\u001b[0m \u001b[0;34m\"Maryland\"\u001b[0m\u001b[0;34m,\u001b[0m \u001b[0;34m\"Maine\"\u001b[0m\u001b[0;34m,\u001b[0m \u001b[0;34m\"Michigan\"\u001b[0m\u001b[0;34m,\u001b[0m \u001b[0;34m\"Minnesota\"\u001b[0m\u001b[0;34m,\u001b[0m \u001b[0;34m\"Missouri\"\u001b[0m\u001b[0;34m,\u001b[0m \u001b[0;34m\"Mississippi\"\u001b[0m\u001b[0;34m,\u001b[0m \u001b[0;34m\"Montana\"\u001b[0m\u001b[0;34m,\u001b[0m \u001b[0;34m\"North Carolina\"\u001b[0m\u001b[0;34m,\u001b[0m \u001b[0;34m\"North Dakota\"\u001b[0m\u001b[0;34m,\u001b[0m \u001b[0;34m\"Nebraska\"\u001b[0m\u001b[0;34m,\u001b[0m \u001b[0;34m\"New Hampshire\"\u001b[0m\u001b[0;34m,\u001b[0m \u001b[0;34m\"New Jersey\"\u001b[0m\u001b[0;34m,\u001b[0m \u001b[0;34m\"New Mexico\"\u001b[0m\u001b[0;34m,\u001b[0m \u001b[0;34m\"Nevada\"\u001b[0m\u001b[0;34m,\u001b[0m \u001b[0;34m\"New York\"\u001b[0m\u001b[0;34m,\u001b[0m \u001b[0;34m\"Ohio\"\u001b[0m\u001b[0;34m,\u001b[0m \u001b[0;34m\"Oklahoma\"\u001b[0m\u001b[0;34m,\u001b[0m \u001b[0;34m\"Oregon\"\u001b[0m\u001b[0;34m,\u001b[0m \u001b[0;34m\"Pennsylvania\"\u001b[0m\u001b[0;34m,\u001b[0m \u001b[0;34m\"Puerto Rico\"\u001b[0m\u001b[0;34m,\u001b[0m \u001b[0;34m\"Rhode Island\"\u001b[0m\u001b[0;34m,\u001b[0m \u001b[0;34m\"South Carolina\"\u001b[0m\u001b[0;34m,\u001b[0m \u001b[0;34m\"South Dakota\"\u001b[0m\u001b[0;34m,\u001b[0m \u001b[0;34m\"Tennessee\"\u001b[0m\u001b[0;34m,\u001b[0m \u001b[0;34m\"Texas\"\u001b[0m\u001b[0;34m,\u001b[0m \u001b[0;34m\"Utah\"\u001b[0m\u001b[0;34m,\u001b[0m \u001b[0;34m\"Virginia\"\u001b[0m\u001b[0;34m,\u001b[0m \u001b[0;34m\"Virgin Islands\"\u001b[0m\u001b[0;34m,\u001b[0m \u001b[0;34m\"Vermont\"\u001b[0m\u001b[0;34m,\u001b[0m \u001b[0;34m\"Washington\"\u001b[0m\u001b[0;34m,\u001b[0m \u001b[0;34m\"Wisconsin\"\u001b[0m\u001b[0;34m,\u001b[0m \u001b[0;34m\"West Virginia\"\u001b[0m\u001b[0;34m,\u001b[0m \u001b[0;34m\"Wyoming\"\u001b[0m\u001b[0;34m]\u001b[0m\u001b[0;34m\u001b[0m\u001b[0;34m\u001b[0m\u001b[0m\n\u001b[1;32m      3\u001b[0m \u001b[0;34m\u001b[0m\u001b[0m\n\u001b[0;32m----> 4\u001b[0;31m \u001b[0;32mfor\u001b[0m \u001b[0mitem\u001b[0m \u001b[0;32min\u001b[0m \u001b[0mdata_list\u001b[0m\u001b[0;34m:\u001b[0m\u001b[0;34m\u001b[0m\u001b[0;34m\u001b[0m\u001b[0m\n\u001b[0m\u001b[1;32m      5\u001b[0m     \u001b[0mmonth\u001b[0m\u001b[0;34m,\u001b[0m \u001b[0mday\u001b[0m\u001b[0;34m,\u001b[0m \u001b[0myear\u001b[0m \u001b[0;34m=\u001b[0m \u001b[0mtuple\u001b[0m\u001b[0;34m(\u001b[0m\u001b[0mitem\u001b[0m\u001b[0;34m[\u001b[0m\u001b[0;34m'ObservationDate'\u001b[0m\u001b[0;34m]\u001b[0m\u001b[0;34m.\u001b[0m\u001b[0msplit\u001b[0m\u001b[0;34m(\u001b[0m\u001b[0;34m'/'\u001b[0m\u001b[0;34m)\u001b[0m\u001b[0;34m)\u001b[0m\u001b[0;34m\u001b[0m\u001b[0;34m\u001b[0m\u001b[0m\n\u001b[1;32m      6\u001b[0m     \u001b[0;32mif\u001b[0m \u001b[0mitem\u001b[0m\u001b[0;34m[\u001b[0m\u001b[0;34m'Country/Region'\u001b[0m\u001b[0;34m]\u001b[0m \u001b[0;34m==\u001b[0m \u001b[0;34m\"US\"\u001b[0m \u001b[0;32mand\u001b[0m \u001b[0mitem\u001b[0m\u001b[0;34m[\u001b[0m\u001b[0;34m'Province/State'\u001b[0m\u001b[0;34m]\u001b[0m \u001b[0;32min\u001b[0m \u001b[0mstate_names\u001b[0m\u001b[0;34m:\u001b[0m\u001b[0;34m\u001b[0m\u001b[0;34m\u001b[0m\u001b[0m\n",
      "\u001b[0;31mNameError\u001b[0m: name 'data_list' is not defined"
     ]
    }
   ],
   "source": [
    "us_data = {}\n",
    "state_names = [\"Alaska\", \"Alabama\", \"Arkansas\", \"American Samoa\", \"Arizona\", \"California\", \"Colorado\", \"Connecticut\", \"District of Columbia\", \"Delaware\", \"Florida\", \"Georgia\", \"Guam\", \"Hawaii\", \"Iowa\", \"Idaho\", \"Illinois\", \"Indiana\", \"Kansas\", \"Kentucky\", \"Louisiana\", \"Massachusetts\", \"Maryland\", \"Maine\", \"Michigan\", \"Minnesota\", \"Missouri\", \"Mississippi\", \"Montana\", \"North Carolina\", \"North Dakota\", \"Nebraska\", \"New Hampshire\", \"New Jersey\", \"New Mexico\", \"Nevada\", \"New York\", \"Ohio\", \"Oklahoma\", \"Oregon\", \"Pennsylvania\", \"Puerto Rico\", \"Rhode Island\", \"South Carolina\", \"South Dakota\", \"Tennessee\", \"Texas\", \"Utah\", \"Virginia\", \"Virgin Islands\", \"Vermont\", \"Washington\", \"Wisconsin\", \"West Virginia\", \"Wyoming\"]\n",
    "\n",
    "for item in data_list:\n",
    "    month, day, year = tuple(item['ObservationDate'].split('/'))\n",
    "    if item['Country/Region'] == \"US\" and item['Province/State'] in state_names:\n",
    "        if not us_data.get(item['Province/State']):\n",
    "            us_data[ item['Province/State'] ] = {}\n",
    "        if not us_data[item['Province/State'] ].get(calendar.month_name[int(month)]):\n",
    "            us_data[ item['Province/State'] ] [ calendar.month_name[int(month)] ] =[]\n",
    "        entry = {\n",
    "            'cumulative_cases': item['Confirmed']\n",
    "        }\n",
    "        us_data[ item['Province/State']] [ calendar.month_name[int(month)] ].append(entry)\n",
    "\n",
    "        \n",
    "    "
   ]
  },
  {
   "cell_type": "markdown",
   "id": "surface-addiction",
   "metadata": {},
   "source": [
    "## Create the Visualization \n",
    "\n",
    "Now that the data parsed, we will use matplotlib to create a graph"
   ]
  },
  {
   "cell_type": "code",
   "execution_count": null,
   "id": "solved-trainer",
   "metadata": {},
   "outputs": [],
   "source": [
    "plt.title('US Cumulative Covid Cases Monthly')\n",
    "plt.xlabel('Month')\n",
    "plt.ylabel('Cases')\n",
    "\n",
    "# TODO: Create x axis MONTHS list\n",
    "x = [ calendar.month_name[potato] for potato in range(1, 13) ]\n",
    "\n",
    "# TODO: Create y axis Cumulative list\n",
    "y = []\n",
    "\n",
    "for month in x:\n",
    "    total_for_month = 0\n",
    "    for state in state_names:\n",
    "        if us_data[state].get(month):\n",
    "            last_value = int(float(us_data[state][month][-1]['cumulative_cases']))\n",
    "            total_for_month += last_value\n",
    "    y.append(total_for_month)\n",
    "        \n",
    "plt.xticks(rotation=45)\n",
    "plt.ticklabel_format(axis='y', style='plain')\n",
    "plt.plot(x, y, fillstyle= 'bottom' )\n",
    "\n"
   ]
  }
 ],
 "metadata": {
  "kernelspec": {
   "display_name": "Python 3",
   "language": "python",
   "name": "python3"
  },
  "language_info": {
   "codemirror_mode": {
    "name": "ipython",
    "version": 3
   },
   "file_extension": ".py",
   "mimetype": "text/x-python",
   "name": "python",
   "nbconvert_exporter": "python",
   "pygments_lexer": "ipython3",
   "version": "3.9.1"
  }
 },
 "nbformat": 4,
 "nbformat_minor": 5
}
