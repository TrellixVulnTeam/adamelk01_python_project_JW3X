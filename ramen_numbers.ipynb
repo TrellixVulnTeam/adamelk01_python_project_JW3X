{
 "cells": [
  {
   "cell_type": "code",
   "execution_count": 1,
   "metadata": {},
   "outputs": [],
   "source": [
    "import matplotlib.pyplot as plt\n",
    "import csv\n",
    "import datetime\n",
    "import calendar"
   ]
  },
  {
   "cell_type": "markdown",
   "metadata": {},
   "source": [
    "## Importing and setting up our data\n",
    "\n",
    "We start by bringing in the CSV data into our Python program\n",
    "We then parse the data using the CSV package\n",
    "Lastly we close the csv file after we have read the information"
   ]
  },
  {
   "cell_type": "code",
   "execution_count": 2,
   "metadata": {},
   "outputs": [],
   "source": [
    "with open('ramen-ratings (1).csv', 'r') as datafile:\n",
    "    ramen_data = csv.DictReader(datafile)\n",
    "    data_list = []\n",
    "    \n",
    "    for row in ramen_data:\n",
    "        data_list.append(row)"
   ]
  },
  {
   "cell_type": "code",
   "execution_count": 1,
   "metadata": {},
   "outputs": [
    {
     "ename": "NameError",
     "evalue": "name 'data_list' is not defined",
     "output_type": "error",
     "traceback": [
      "\u001b[0;31m---------------------------------------------------------------------------\u001b[0m",
      "\u001b[0;31mNameError\u001b[0m                                 Traceback (most recent call last)",
      "\u001b[0;32m<ipython-input-1-809eaf4f0f92>\u001b[0m in \u001b[0;36m<module>\u001b[0;34m\u001b[0m\n\u001b[0;32m----> 1\u001b[0;31m \u001b[0mdata_list\u001b[0m\u001b[0;34m[\u001b[0m\u001b[0;36m0\u001b[0m\u001b[0;34m]\u001b[0m\u001b[0;34m\u001b[0m\u001b[0;34m\u001b[0m\u001b[0m\n\u001b[0m",
      "\u001b[0;31mNameError\u001b[0m: name 'data_list' is not defined"
     ]
    }
   ],
   "source": [
    "data_list[0]"
   ]
  },
  {
   "cell_type": "markdown",
   "metadata": {},
   "source": [
    "## Format the data before we generate the visualization\n",
    "Find the US data and extract it from all the other countries.  We also want to pull the amount of stars the USA ramen gets so we can graph it later on."
   ]
  },
  {
   "cell_type": "code",
   "execution_count": 2,
   "metadata": {},
   "outputs": [
    {
     "ename": "NameError",
     "evalue": "name 'data_list' is not defined",
     "output_type": "error",
     "traceback": [
      "\u001b[0;31m---------------------------------------------------------------------------\u001b[0m",
      "\u001b[0;31mNameError\u001b[0m                                 Traceback (most recent call last)",
      "\u001b[0;32m<ipython-input-2-62028df21a58>\u001b[0m in \u001b[0;36m<module>\u001b[0;34m\u001b[0m\n\u001b[1;32m      1\u001b[0m \u001b[0mramen_data\u001b[0m \u001b[0;34m=\u001b[0m \u001b[0;34m{\u001b[0m\u001b[0;34m}\u001b[0m\u001b[0;34m\u001b[0m\u001b[0;34m\u001b[0m\u001b[0m\n\u001b[1;32m      2\u001b[0m \u001b[0mcountry_names\u001b[0m \u001b[0;34m=\u001b[0m \u001b[0;34m[\u001b[0m\u001b[0;34m\"Afghanistan\"\u001b[0m\u001b[0;34m,\u001b[0m\u001b[0;34m\"Albania\"\u001b[0m\u001b[0;34m,\u001b[0m\u001b[0;34m\"Algeria\"\u001b[0m\u001b[0;34m,\u001b[0m\u001b[0;34m\"Andorra\"\u001b[0m\u001b[0;34m,\u001b[0m\u001b[0;34m\"Angola\"\u001b[0m\u001b[0;34m,\u001b[0m\u001b[0;34m\"Anguilla\"\u001b[0m\u001b[0;34m,\u001b[0m\u001b[0;34m\"Antigua &amp; Barbuda\"\u001b[0m\u001b[0;34m,\u001b[0m\u001b[0;34m\"Argentina\"\u001b[0m\u001b[0;34m,\u001b[0m\u001b[0;34m\"Armenia\"\u001b[0m\u001b[0;34m,\u001b[0m\u001b[0;34m\"Aruba\"\u001b[0m\u001b[0;34m,\u001b[0m\u001b[0;34m\"Australia\"\u001b[0m\u001b[0;34m,\u001b[0m\u001b[0;34m\"Austria\"\u001b[0m\u001b[0;34m,\u001b[0m\u001b[0;34m\"Azerbaijan\"\u001b[0m\u001b[0;34m,\u001b[0m\u001b[0;34m\"Bahamas\"\u001b[0m\u001b[0;34m,\u001b[0m\u001b[0;34m\"Bahrain\"\u001b[0m\u001b[0;34m,\u001b[0m\u001b[0;34m\"Bangladesh\"\u001b[0m\u001b[0;34m,\u001b[0m\u001b[0;34m\"Barbados\"\u001b[0m\u001b[0;34m,\u001b[0m\u001b[0;34m\"Belarus\"\u001b[0m\u001b[0;34m,\u001b[0m\u001b[0;34m\"Belgium\"\u001b[0m\u001b[0;34m,\u001b[0m\u001b[0;34m\"Belize\"\u001b[0m\u001b[0;34m,\u001b[0m\u001b[0;34m\"Benin\"\u001b[0m\u001b[0;34m,\u001b[0m\u001b[0;34m\"Bermuda\"\u001b[0m\u001b[0;34m,\u001b[0m\u001b[0;34m\"Bhutan\"\u001b[0m\u001b[0;34m,\u001b[0m\u001b[0;34m\"Bolivia\"\u001b[0m\u001b[0;34m,\u001b[0m\u001b[0;34m\"Bosnia &amp; Herzegovina\"\u001b[0m\u001b[0;34m,\u001b[0m\u001b[0;34m\"Botswana\"\u001b[0m\u001b[0;34m,\u001b[0m\u001b[0;34m\"Brazil\"\u001b[0m\u001b[0;34m,\u001b[0m\u001b[0;34m\"British Virgin Islands\"\u001b[0m\u001b[0;34m,\u001b[0m\u001b[0;34m\"Brunei\"\u001b[0m\u001b[0;34m,\u001b[0m\u001b[0;34m\"Bulgaria\"\u001b[0m\u001b[0;34m,\u001b[0m\u001b[0;34m\"Burkina Faso\"\u001b[0m\u001b[0;34m,\u001b[0m\u001b[0;34m\"Burundi\"\u001b[0m\u001b[0;34m,\u001b[0m\u001b[0;34m\"Cambodia\"\u001b[0m\u001b[0;34m,\u001b[0m\u001b[0;34m\"Cameroon\"\u001b[0m\u001b[0;34m,\u001b[0m\u001b[0;34m\"Cape Verde\"\u001b[0m\u001b[0;34m,\u001b[0m\u001b[0;34m\"Cayman Islands\"\u001b[0m\u001b[0;34m,\u001b[0m\u001b[0;34m\"Chad\"\u001b[0m\u001b[0;34m,\u001b[0m\u001b[0;34m\"Chile\"\u001b[0m\u001b[0;34m,\u001b[0m\u001b[0;34m\"China\"\u001b[0m\u001b[0;34m,\u001b[0m\u001b[0;34m\"Colombia\"\u001b[0m\u001b[0;34m,\u001b[0m\u001b[0;34m\"Congo\"\u001b[0m\u001b[0;34m,\u001b[0m\u001b[0;34m\"Cook Islands\"\u001b[0m\u001b[0;34m,\u001b[0m\u001b[0;34m\"Costa Rica\"\u001b[0m\u001b[0;34m,\u001b[0m\u001b[0;34m\"Cote D Ivoire\"\u001b[0m\u001b[0;34m,\u001b[0m\u001b[0;34m\"Croatia\"\u001b[0m\u001b[0;34m,\u001b[0m\u001b[0;34m\"Cruise Ship\"\u001b[0m\u001b[0;34m,\u001b[0m\u001b[0;34m\"Cuba\"\u001b[0m\u001b[0;34m,\u001b[0m\u001b[0;34m\"Cyprus\"\u001b[0m\u001b[0;34m,\u001b[0m\u001b[0;34m\"Czech Republic\"\u001b[0m\u001b[0;34m,\u001b[0m\u001b[0;34m\"Denmark\"\u001b[0m\u001b[0;34m,\u001b[0m\u001b[0;34m\"Djibouti\"\u001b[0m\u001b[0;34m,\u001b[0m\u001b[0;34m\"Dominica\"\u001b[0m\u001b[0;34m,\u001b[0m\u001b[0;34m\"Dominican Republic\"\u001b[0m\u001b[0;34m,\u001b[0m\u001b[0;34m\"Ecuador\"\u001b[0m\u001b[0;34m,\u001b[0m\u001b[0;34m\"Egypt\"\u001b[0m\u001b[0;34m,\u001b[0m\u001b[0;34m\"El Salvador\"\u001b[0m\u001b[0;34m,\u001b[0m\u001b[0;34m\"Equatorial Guinea\"\u001b[0m\u001b[0;34m,\u001b[0m\u001b[0;34m\"Estonia\"\u001b[0m\u001b[0;34m,\u001b[0m\u001b[0;34m\"Ethiopia\"\u001b[0m\u001b[0;34m,\u001b[0m\u001b[0;34m\"Falkland Islands\"\u001b[0m\u001b[0;34m,\u001b[0m\u001b[0;34m\"Faroe Islands\"\u001b[0m\u001b[0;34m,\u001b[0m\u001b[0;34m\"Fiji\"\u001b[0m\u001b[0;34m,\u001b[0m\u001b[0;34m\"Finland\"\u001b[0m\u001b[0;34m,\u001b[0m\u001b[0;34m\"France\"\u001b[0m\u001b[0;34m,\u001b[0m\u001b[0;34m\"French Polynesia\"\u001b[0m\u001b[0;34m,\u001b[0m\u001b[0;34m\"French West Indies\"\u001b[0m\u001b[0;34m,\u001b[0m\u001b[0;34m\"Gabon\"\u001b[0m\u001b[0;34m,\u001b[0m\u001b[0;34m\"Gambia\"\u001b[0m\u001b[0;34m,\u001b[0m\u001b[0;34m\"Georgia\"\u001b[0m\u001b[0;34m,\u001b[0m\u001b[0;34m\"Germany\"\u001b[0m\u001b[0;34m,\u001b[0m\u001b[0;34m\"Ghana\"\u001b[0m\u001b[0;34m,\u001b[0m\u001b[0;34m\"Gibraltar\"\u001b[0m\u001b[0;34m,\u001b[0m\u001b[0;34m\"Greece\"\u001b[0m\u001b[0;34m,\u001b[0m\u001b[0;34m\"Greenland\"\u001b[0m\u001b[0;34m,\u001b[0m\u001b[0;34m\"Grenada\"\u001b[0m\u001b[0;34m,\u001b[0m\u001b[0;34m\"Guam\"\u001b[0m\u001b[0;34m,\u001b[0m\u001b[0;34m\"Guatemala\"\u001b[0m\u001b[0;34m,\u001b[0m\u001b[0;34m\"Guernsey\"\u001b[0m\u001b[0;34m,\u001b[0m\u001b[0;34m\"Guinea\"\u001b[0m\u001b[0;34m,\u001b[0m\u001b[0;34m\"Guinea Bissau\"\u001b[0m\u001b[0;34m,\u001b[0m\u001b[0;34m\"Guyana\"\u001b[0m\u001b[0;34m,\u001b[0m\u001b[0;34m\"Haiti\"\u001b[0m\u001b[0;34m,\u001b[0m\u001b[0;34m\"Honduras\"\u001b[0m\u001b[0;34m,\u001b[0m\u001b[0;34m\"Hong Kong\"\u001b[0m\u001b[0;34m,\u001b[0m\u001b[0;34m\"Hungary\"\u001b[0m\u001b[0;34m,\u001b[0m\u001b[0;34m\"Iceland\"\u001b[0m\u001b[0;34m,\u001b[0m\u001b[0;34m\"India\"\u001b[0m\u001b[0;34m,\u001b[0m\u001b[0;34m\"Indonesia\"\u001b[0m\u001b[0;34m,\u001b[0m\u001b[0;34m\"Iran\"\u001b[0m\u001b[0;34m,\u001b[0m\u001b[0;34m\"Iraq\"\u001b[0m\u001b[0;34m,\u001b[0m\u001b[0;34m\"Ireland\"\u001b[0m\u001b[0;34m,\u001b[0m\u001b[0;34m\"Isle of Man\"\u001b[0m\u001b[0;34m,\u001b[0m\u001b[0;34m\"Israel\"\u001b[0m\u001b[0;34m,\u001b[0m\u001b[0;34m\"Italy\"\u001b[0m\u001b[0;34m,\u001b[0m\u001b[0;34m\"Jamaica\"\u001b[0m\u001b[0;34m,\u001b[0m\u001b[0;34m\"Japan\"\u001b[0m\u001b[0;34m,\u001b[0m\u001b[0;34m\"Jersey\"\u001b[0m\u001b[0;34m,\u001b[0m\u001b[0;34m\"Jordan\"\u001b[0m\u001b[0;34m,\u001b[0m\u001b[0;34m\"Kazakhstan\"\u001b[0m\u001b[0;34m,\u001b[0m\u001b[0;34m\"Kenya\"\u001b[0m\u001b[0;34m,\u001b[0m\u001b[0;34m\"Kuwait\"\u001b[0m\u001b[0;34m,\u001b[0m\u001b[0;34m\"Kyrgyz Republic\"\u001b[0m\u001b[0;34m,\u001b[0m\u001b[0;34m\"Laos\"\u001b[0m\u001b[0;34m,\u001b[0m\u001b[0;34m\"Latvia\"\u001b[0m\u001b[0;34m,\u001b[0m\u001b[0;34m\"Lebanon\"\u001b[0m\u001b[0;34m,\u001b[0m\u001b[0;34m\"Lesotho\"\u001b[0m\u001b[0;34m,\u001b[0m\u001b[0;34m\"Liberia\"\u001b[0m\u001b[0;34m,\u001b[0m\u001b[0;34m\"Libya\"\u001b[0m\u001b[0;34m,\u001b[0m\u001b[0;34m\"Liechtenstein\"\u001b[0m\u001b[0;34m,\u001b[0m\u001b[0;34m\"Lithuania\"\u001b[0m\u001b[0;34m,\u001b[0m\u001b[0;34m\"Luxembourg\"\u001b[0m\u001b[0;34m,\u001b[0m\u001b[0;34m\"Macau\"\u001b[0m\u001b[0;34m,\u001b[0m\u001b[0;34m\"Macedonia\"\u001b[0m\u001b[0;34m,\u001b[0m\u001b[0;34m\"Madagascar\"\u001b[0m\u001b[0;34m,\u001b[0m\u001b[0;34m\"Malawi\"\u001b[0m\u001b[0;34m,\u001b[0m\u001b[0;34m\"Malaysia\"\u001b[0m\u001b[0;34m,\u001b[0m\u001b[0;34m\"Maldives\"\u001b[0m\u001b[0;34m,\u001b[0m\u001b[0;34m\"Mali\"\u001b[0m\u001b[0;34m,\u001b[0m\u001b[0;34m\"Malta\"\u001b[0m\u001b[0;34m,\u001b[0m\u001b[0;34m\"Mauritania\"\u001b[0m\u001b[0;34m,\u001b[0m\u001b[0;34m\"Mauritius\"\u001b[0m\u001b[0;34m,\u001b[0m\u001b[0;34m\"Mexico\"\u001b[0m\u001b[0;34m,\u001b[0m\u001b[0;34m\"Moldova\"\u001b[0m\u001b[0;34m,\u001b[0m\u001b[0;34m\"Monaco\"\u001b[0m\u001b[0;34m,\u001b[0m\u001b[0;34m\"Mongolia\"\u001b[0m\u001b[0;34m,\u001b[0m\u001b[0;34m\"Montenegro\"\u001b[0m\u001b[0;34m,\u001b[0m\u001b[0;34m\"Montserrat\"\u001b[0m\u001b[0;34m,\u001b[0m\u001b[0;34m\"Morocco\"\u001b[0m\u001b[0;34m,\u001b[0m\u001b[0;34m\"Mozambique\"\u001b[0m\u001b[0;34m,\u001b[0m\u001b[0;34m\"Namibia\"\u001b[0m\u001b[0;34m,\u001b[0m\u001b[0;34m\"Nepal\"\u001b[0m\u001b[0;34m,\u001b[0m\u001b[0;34m\"Netherlands\"\u001b[0m\u001b[0;34m,\u001b[0m\u001b[0;34m\"Netherlands Antilles\"\u001b[0m\u001b[0;34m,\u001b[0m\u001b[0;34m\"New Caledonia\"\u001b[0m\u001b[0;34m,\u001b[0m\u001b[0;34m\"New Zealand\"\u001b[0m\u001b[0;34m,\u001b[0m\u001b[0;34m\"Nicaragua\"\u001b[0m\u001b[0;34m,\u001b[0m\u001b[0;34m\"Niger\"\u001b[0m\u001b[0;34m,\u001b[0m\u001b[0;34m\"Nigeria\"\u001b[0m\u001b[0;34m,\u001b[0m\u001b[0;34m\"Norway\"\u001b[0m\u001b[0;34m,\u001b[0m\u001b[0;34m\"Oman\"\u001b[0m\u001b[0;34m,\u001b[0m\u001b[0;34m\"Pakistan\"\u001b[0m\u001b[0;34m,\u001b[0m\u001b[0;34m\"Palestine\"\u001b[0m\u001b[0;34m,\u001b[0m\u001b[0;34m\"Panama\"\u001b[0m\u001b[0;34m,\u001b[0m\u001b[0;34m\"Papua New Guinea\"\u001b[0m\u001b[0;34m,\u001b[0m\u001b[0;34m\"Paraguay\"\u001b[0m\u001b[0;34m,\u001b[0m\u001b[0;34m\"Peru\"\u001b[0m\u001b[0;34m,\u001b[0m\u001b[0;34m\"Philippines\"\u001b[0m\u001b[0;34m,\u001b[0m\u001b[0;34m\"Poland\"\u001b[0m\u001b[0;34m,\u001b[0m\u001b[0;34m\"Portugal\"\u001b[0m\u001b[0;34m,\u001b[0m\u001b[0;34m\"Puerto Rico\"\u001b[0m\u001b[0;34m,\u001b[0m\u001b[0;34m\"Qatar\"\u001b[0m\u001b[0;34m,\u001b[0m\u001b[0;34m\"Reunion\"\u001b[0m\u001b[0;34m,\u001b[0m\u001b[0;34m\"Romania\"\u001b[0m\u001b[0;34m,\u001b[0m\u001b[0;34m\"Russia\"\u001b[0m\u001b[0;34m,\u001b[0m\u001b[0;34m\"Rwanda\"\u001b[0m\u001b[0;34m,\u001b[0m\u001b[0;34m\"Saint Pierre &amp; Miquelon\"\u001b[0m\u001b[0;34m,\u001b[0m\u001b[0;34m\"Samoa\"\u001b[0m\u001b[0;34m,\u001b[0m\u001b[0;34m\"San Marino\"\u001b[0m\u001b[0;34m,\u001b[0m\u001b[0;34m\"Satellite\"\u001b[0m\u001b[0;34m,\u001b[0m\u001b[0;34m\"Saudi Arabia\"\u001b[0m\u001b[0;34m,\u001b[0m\u001b[0;34m\"Senegal\"\u001b[0m\u001b[0;34m,\u001b[0m\u001b[0;34m\"Serbia\"\u001b[0m\u001b[0;34m,\u001b[0m\u001b[0;34m\"Seychelles\"\u001b[0m\u001b[0;34m,\u001b[0m\u001b[0;34m\"Sierra Leone\"\u001b[0m\u001b[0;34m,\u001b[0m\u001b[0;34m\"Singapore\"\u001b[0m\u001b[0;34m,\u001b[0m\u001b[0;34m\"Slovakia\"\u001b[0m\u001b[0;34m,\u001b[0m\u001b[0;34m\"Slovenia\"\u001b[0m\u001b[0;34m,\u001b[0m\u001b[0;34m\"South Africa\"\u001b[0m\u001b[0;34m,\u001b[0m\u001b[0;34m\"South Korea\"\u001b[0m\u001b[0;34m,\u001b[0m\u001b[0;34m\"Spain\"\u001b[0m\u001b[0;34m,\u001b[0m\u001b[0;34m\"Sri Lanka\"\u001b[0m\u001b[0;34m,\u001b[0m\u001b[0;34m\"St Kitts &amp; Nevis\"\u001b[0m\u001b[0;34m,\u001b[0m\u001b[0;34m\"St Lucia\"\u001b[0m\u001b[0;34m,\u001b[0m\u001b[0;34m\"St Vincent\"\u001b[0m\u001b[0;34m,\u001b[0m\u001b[0;34m\"St. Lucia\"\u001b[0m\u001b[0;34m,\u001b[0m\u001b[0;34m\"Sudan\"\u001b[0m\u001b[0;34m,\u001b[0m\u001b[0;34m\"Suriname\"\u001b[0m\u001b[0;34m,\u001b[0m\u001b[0;34m\"Swaziland\"\u001b[0m\u001b[0;34m,\u001b[0m\u001b[0;34m\"Sweden\"\u001b[0m\u001b[0;34m,\u001b[0m\u001b[0;34m\"Switzerland\"\u001b[0m\u001b[0;34m,\u001b[0m\u001b[0;34m\"Syria\"\u001b[0m\u001b[0;34m,\u001b[0m\u001b[0;34m\"Taiwan\"\u001b[0m\u001b[0;34m,\u001b[0m\u001b[0;34m\"Tajikistan\"\u001b[0m\u001b[0;34m,\u001b[0m\u001b[0;34m\"Tanzania\"\u001b[0m\u001b[0;34m,\u001b[0m\u001b[0;34m\"Thailand\"\u001b[0m\u001b[0;34m,\u001b[0m\u001b[0;34m\"Timor L'Este\"\u001b[0m\u001b[0;34m,\u001b[0m\u001b[0;34m\"Togo\"\u001b[0m\u001b[0;34m,\u001b[0m\u001b[0;34m\"Tonga\"\u001b[0m\u001b[0;34m,\u001b[0m\u001b[0;34m\"Trinidad &amp; Tobago\"\u001b[0m\u001b[0;34m,\u001b[0m\u001b[0;34m\"Tunisia\"\u001b[0m\u001b[0;34m,\u001b[0m\u001b[0;34m\"Turkey\"\u001b[0m\u001b[0;34m,\u001b[0m\u001b[0;34m\"Turkmenistan\"\u001b[0m\u001b[0;34m,\u001b[0m\u001b[0;34m\"Turks &amp; Caicos\"\u001b[0m\u001b[0;34m,\u001b[0m\u001b[0;34m\"Uganda\"\u001b[0m\u001b[0;34m,\u001b[0m\u001b[0;34m\"Ukraine\"\u001b[0m\u001b[0;34m,\u001b[0m\u001b[0;34m\"United Arab Emirates\"\u001b[0m\u001b[0;34m,\u001b[0m\u001b[0;34m\"United Kingdom\"\u001b[0m\u001b[0;34m,\u001b[0m\u001b[0;34m\"Uruguay\"\u001b[0m\u001b[0;34m,\u001b[0m\u001b[0;34m\"Uzbekistan\"\u001b[0m\u001b[0;34m,\u001b[0m\u001b[0;34m\"Venezuela\"\u001b[0m\u001b[0;34m,\u001b[0m\u001b[0;34m\"Vietnam\"\u001b[0m\u001b[0;34m,\u001b[0m\u001b[0;34m\"Virgin Islands (US)\"\u001b[0m\u001b[0;34m,\u001b[0m\u001b[0;34m\"Yemen\"\u001b[0m\u001b[0;34m,\u001b[0m\u001b[0;34m\"Zambia\"\u001b[0m\u001b[0;34m,\u001b[0m\u001b[0;34m\"Zimbabwe\"\u001b[0m\u001b[0;34m]\u001b[0m\u001b[0;34m\u001b[0m\u001b[0;34m\u001b[0m\u001b[0m\n\u001b[0;32m----> 3\u001b[0;31m \u001b[0;32mfor\u001b[0m \u001b[0mitem\u001b[0m \u001b[0;32min\u001b[0m \u001b[0mdata_list\u001b[0m\u001b[0;34m:\u001b[0m\u001b[0;34m\u001b[0m\u001b[0;34m\u001b[0m\u001b[0m\n\u001b[0m\u001b[1;32m      4\u001b[0m     \u001b[0mmonth\u001b[0m\u001b[0;34m,\u001b[0m \u001b[0mday\u001b[0m\u001b[0;34m,\u001b[0m \u001b[0myear\u001b[0m \u001b[0;34m=\u001b[0m \u001b[0mtuple\u001b[0m\u001b[0;34m(\u001b[0m\u001b[0mitem\u001b[0m\u001b[0;34m[\u001b[0m\u001b[0;34m'ObservationDate'\u001b[0m\u001b[0;34m]\u001b[0m\u001b[0;34m.\u001b[0m\u001b[0msplit\u001b[0m\u001b[0;34m(\u001b[0m\u001b[0;34m'/'\u001b[0m\u001b[0;34m)\u001b[0m\u001b[0;34m)\u001b[0m\u001b[0;34m\u001b[0m\u001b[0;34m\u001b[0m\u001b[0m\n\u001b[1;32m      5\u001b[0m     \u001b[0;32mif\u001b[0m \u001b[0mitem\u001b[0m\u001b[0;34m[\u001b[0m\u001b[0;34m'Country'\u001b[0m\u001b[0;34m]\u001b[0m \u001b[0;34m==\u001b[0m \u001b[0;34m\"US\"\u001b[0m \u001b[0;32min\u001b[0m \u001b[0mcountry_names\u001b[0m\u001b[0;34m:\u001b[0m\u001b[0;34m\u001b[0m\u001b[0;34m\u001b[0m\u001b[0m\n",
      "\u001b[0;31mNameError\u001b[0m: name 'data_list' is not defined"
     ]
    }
   ],
   "source": [
    "ramen_data = {}\n",
    "country_names = [\"Afghanistan\",\"Albania\",\"Algeria\",\"Andorra\",\"Angola\",\"Anguilla\",\"Antigua &amp; Barbuda\",\"Argentina\",\"Armenia\",\"Aruba\",\"Australia\",\"Austria\",\"Azerbaijan\",\"Bahamas\",\"Bahrain\",\"Bangladesh\",\"Barbados\",\"Belarus\",\"Belgium\",\"Belize\",\"Benin\",\"Bermuda\",\"Bhutan\",\"Bolivia\",\"Bosnia &amp; Herzegovina\",\"Botswana\",\"Brazil\",\"British Virgin Islands\",\"Brunei\",\"Bulgaria\",\"Burkina Faso\",\"Burundi\",\"Cambodia\",\"Cameroon\",\"Cape Verde\",\"Cayman Islands\",\"Chad\",\"Chile\",\"China\",\"Colombia\",\"Congo\",\"Cook Islands\",\"Costa Rica\",\"Cote D Ivoire\",\"Croatia\",\"Cruise Ship\",\"Cuba\",\"Cyprus\",\"Czech Republic\",\"Denmark\",\"Djibouti\",\"Dominica\",\"Dominican Republic\",\"Ecuador\",\"Egypt\",\"El Salvador\",\"Equatorial Guinea\",\"Estonia\",\"Ethiopia\",\"Falkland Islands\",\"Faroe Islands\",\"Fiji\",\"Finland\",\"France\",\"French Polynesia\",\"French West Indies\",\"Gabon\",\"Gambia\",\"Georgia\",\"Germany\",\"Ghana\",\"Gibraltar\",\"Greece\",\"Greenland\",\"Grenada\",\"Guam\",\"Guatemala\",\"Guernsey\",\"Guinea\",\"Guinea Bissau\",\"Guyana\",\"Haiti\",\"Honduras\",\"Hong Kong\",\"Hungary\",\"Iceland\",\"India\",\"Indonesia\",\"Iran\",\"Iraq\",\"Ireland\",\"Isle of Man\",\"Israel\",\"Italy\",\"Jamaica\",\"Japan\",\"Jersey\",\"Jordan\",\"Kazakhstan\",\"Kenya\",\"Kuwait\",\"Kyrgyz Republic\",\"Laos\",\"Latvia\",\"Lebanon\",\"Lesotho\",\"Liberia\",\"Libya\",\"Liechtenstein\",\"Lithuania\",\"Luxembourg\",\"Macau\",\"Macedonia\",\"Madagascar\",\"Malawi\",\"Malaysia\",\"Maldives\",\"Mali\",\"Malta\",\"Mauritania\",\"Mauritius\",\"Mexico\",\"Moldova\",\"Monaco\",\"Mongolia\",\"Montenegro\",\"Montserrat\",\"Morocco\",\"Mozambique\",\"Namibia\",\"Nepal\",\"Netherlands\",\"Netherlands Antilles\",\"New Caledonia\",\"New Zealand\",\"Nicaragua\",\"Niger\",\"Nigeria\",\"Norway\",\"Oman\",\"Pakistan\",\"Palestine\",\"Panama\",\"Papua New Guinea\",\"Paraguay\",\"Peru\",\"Philippines\",\"Poland\",\"Portugal\",\"Puerto Rico\",\"Qatar\",\"Reunion\",\"Romania\",\"Russia\",\"Rwanda\",\"Saint Pierre &amp; Miquelon\",\"Samoa\",\"San Marino\",\"Satellite\",\"Saudi Arabia\",\"Senegal\",\"Serbia\",\"Seychelles\",\"Sierra Leone\",\"Singapore\",\"Slovakia\",\"Slovenia\",\"South Africa\",\"South Korea\",\"Spain\",\"Sri Lanka\",\"St Kitts &amp; Nevis\",\"St Lucia\",\"St Vincent\",\"St. Lucia\",\"Sudan\",\"Suriname\",\"Swaziland\",\"Sweden\",\"Switzerland\",\"Syria\",\"Taiwan\",\"Tajikistan\",\"Tanzania\",\"Thailand\",\"Timor L'Este\",\"Togo\",\"Tonga\",\"Trinidad &amp; Tobago\",\"Tunisia\",\"Turkey\",\"Turkmenistan\",\"Turks &amp; Caicos\",\"Uganda\",\"Ukraine\",\"United Arab Emirates\",\"United Kingdom\",\"Uruguay\",\"Uzbekistan\",\"Venezuela\",\"Vietnam\",\"Virgin Islands (US)\",\"Yemen\",\"Zambia\",\"Zimbabwe\"]\n",
    "for item in data_list:\n",
    "    Rank = item['Stars']\n",
    "    if item['Country'] == \"US\" in country_names:\n",
    "        if not ramen_data.get(item['Country']):\n",
    "            ramen_data[ item['Country'] ] = {}\n",
    "       \n",
    "        entry = {\n",
    "            'number_of_stars': item['Confirmed']\n",
    "        }\n",
    "        ramen_data[ item['Country']].append(entry)\n",
    "\n",
    "        \n",
    "    "
   ]
  },
  {
   "cell_type": "markdown",
   "metadata": {},
   "source": [
    "## Create the Visualization\n",
    "\n",
    "Now that the data is parsed, we will use matplotlib to create a graph."
   ]
  },
  {
   "cell_type": "code",
   "execution_count": 1,
   "metadata": {},
   "outputs": [
    {
     "ename": "NameError",
     "evalue": "name 'plt' is not defined",
     "output_type": "error",
     "traceback": [
      "\u001b[0;31m---------------------------------------------------------------------------\u001b[0m",
      "\u001b[0;31mNameError\u001b[0m                                 Traceback (most recent call last)",
      "\u001b[0;32m<ipython-input-1-15479a6d24ad>\u001b[0m in \u001b[0;36m<module>\u001b[0;34m\u001b[0m\n\u001b[0;32m----> 1\u001b[0;31m \u001b[0mplt\u001b[0m\u001b[0;34m.\u001b[0m\u001b[0mtitle\u001b[0m\u001b[0;34m(\u001b[0m\u001b[0;34m'Ramen Styles vs # of Stars'\u001b[0m\u001b[0;34m)\u001b[0m\u001b[0;34m\u001b[0m\u001b[0;34m\u001b[0m\u001b[0m\n\u001b[0m\u001b[1;32m      2\u001b[0m \u001b[0mplt\u001b[0m\u001b[0;34m.\u001b[0m\u001b[0mxlabel\u001b[0m\u001b[0;34m(\u001b[0m\u001b[0;34m'Month'\u001b[0m\u001b[0;34m)\u001b[0m\u001b[0;34m\u001b[0m\u001b[0;34m\u001b[0m\u001b[0m\n\u001b[1;32m      3\u001b[0m \u001b[0mplt\u001b[0m\u001b[0;34m.\u001b[0m\u001b[0mylabel\u001b[0m\u001b[0;34m(\u001b[0m\u001b[0;34m'Cases'\u001b[0m\u001b[0;34m)\u001b[0m\u001b[0;34m\u001b[0m\u001b[0;34m\u001b[0m\u001b[0m\n\u001b[1;32m      4\u001b[0m \u001b[0;34m\u001b[0m\u001b[0m\n\u001b[1;32m      5\u001b[0m \u001b[0;31m# TODO: Create x axis MONTHS list\u001b[0m\u001b[0;34m\u001b[0m\u001b[0;34m\u001b[0m\u001b[0;34m\u001b[0m\u001b[0m\n",
      "\u001b[0;31mNameError\u001b[0m: name 'plt' is not defined"
     ]
    }
   ],
   "source": [
    "plt.title('Does the USA get the Highest Ranked Ramen  ')\n",
    "plt.xlabel('USA')\n",
    "plt.ylabel('Star Ranking')\n",
    "\n",
    "\n",
    "x = ('USA')\n",
    "\n",
    "y = []\n",
    "\n",
    "for stars in y:\n",
    "    sum (number_of_stars)\n",
    "\n",
    "        \n",
    "plt.xticks(rotation=45)\n",
    "plt.ticklabel_format(axis='y', style='plain')\n",
    "plt.plot(x, y, fillstyle= 'bottom' )\n",
    "\n"
   ]
  },
  {
   "cell_type": "code",
   "execution_count": null,
   "metadata": {},
   "outputs": [],
   "source": []
  }
 ],
 "metadata": {
  "kernelspec": {
   "display_name": "covid_data",
   "language": "python",
   "name": "covid_data"
  },
  "language_info": {
   "codemirror_mode": {
    "name": "ipython",
    "version": 3
   },
   "file_extension": ".py",
   "mimetype": "text/x-python",
   "name": "python",
   "nbconvert_exporter": "python",
   "pygments_lexer": "ipython3",
   "version": "3.9.1"
  }
 },
 "nbformat": 4,
 "nbformat_minor": 4
}
